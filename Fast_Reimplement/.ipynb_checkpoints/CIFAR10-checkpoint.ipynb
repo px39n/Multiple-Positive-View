{
 "cells": [
  {
   "cell_type": "markdown",
   "id": "a0f51058-b536-4517-a871-46e924f91ade",
   "metadata": {
    "tags": []
   },
   "source": [
    "# Download Datasets"
   ]
  },
  {
   "cell_type": "code",
   "execution_count": 1,
   "id": "467b094a-6f02-4c14-8451-43acf2eda2fe",
   "metadata": {},
   "outputs": [
    {
     "data": {
      "text/plain": [
       "1"
      ]
     },
     "execution_count": 1,
     "metadata": {},
     "output_type": "execute_result"
    }
   ],
   "source": [
    "1"
   ]
  },
  {
   "cell_type": "code",
   "execution_count": 2,
   "id": "75c376de-604b-43d0-ae63-d75fe61d5588",
   "metadata": {},
   "outputs": [
    {
     "name": "stdout",
     "output_type": "stream",
     "text": [
      "Files already downloaded and verified\n",
      "Files already downloaded and verified\n",
      "Files already downloaded and verified\n"
     ]
    }
   ],
   "source": [
    "\n",
    "import torch\n",
    "import torchvision\n",
    "import torchvision.transforms as transforms\n",
    "from PIL import Image\n",
    "import os\n",
    "\n",
    "\n",
    "# Define transform to convert data from PyTorch tensor to PIL image\n",
    "#transform = transforms.Compose([transforms.Resize((32,32))])\n",
    "\n",
    "# Download and load the training data\n",
    "trainset = torchvision.datasets.STL10(root=\"autodl-fs\",split=\"train\", download=True)\n",
    "testset = torchvision.datasets.STL10(root=\"autodl-fs\", split=\"test\", download=True)\n",
    "unlabel = torchvision.datasets.STL10(root=\"autodl-fs\", split=\"unlabeled\", download=True)\n",
    "# Get class labels\n",
    "class_labels = trainset.classes\n",
    "\n",
    "def save_dataset(dataset, train=\"T\"):\n",
    "    # Choose the directory\n",
    "    if train ==\"T\":\n",
    "        dir = 'STL10/train' \n",
    "    elif train==\"Test\":\n",
    "        dir = 'STL10/test' \n",
    "    else: \n",
    "        dir = 'STL10/unlabeled' \n",
    "    \n",
    "    for i, (img, label) in enumerate(dataset):\n",
    "        # Create directories for each class if not exist\n",
    "        if not os.path.exists(f'{dir}/{class_labels[label]}'):\n",
    "            os.makedirs(f'{dir}/{class_labels[label]}')\n",
    "        \n",
    "        # Transform the image data to PIL image\n",
    "        #img = transform(img)\n",
    "        \n",
    "        # Save the image in the corresponding class directory\n",
    "        img.save(f'{dir}/{class_labels[label]}/{i}.png')\n",
    "\n",
    "save_dataset(trainset, train=\"T\")\n",
    "save_dataset(testset, train=\"Test\")\n",
    "save_dataset(unlabel, train=\"GGG\")\n",
    "\n"
   ]
  },
  {
   "cell_type": "markdown",
   "id": "98010c19-b894-4536-adc7-35d176116724",
   "metadata": {
    "tags": []
   },
   "source": [
    "# COPY DIR"
   ]
  },
  {
   "cell_type": "code",
   "execution_count": null,
   "id": "d78ff787-d470-4ffb-9766-9004d50cc3b1",
   "metadata": {},
   "outputs": [],
   "source": [
    "import shutil\n",
    "\n",
    "shutil.copy('source_file.txt', 'destination_file.txt')\n"
   ]
  },
  {
   "cell_type": "code",
   "execution_count": null,
   "id": "393b37a5-7300-41c8-8fdc-092738bec96d",
   "metadata": {},
   "outputs": [],
   "source": [
    "\n",
    "import shutil\n",
    "import os\n",
    "# specify the source file path and the destination file path\n",
    "source_directory_path = \"autodl-fs/datasets/STL10\"\n",
    "destination_directory_path = \"STL10\"\n",
    "\n",
    "shutil.copytree(source_directory_path, destination_directory_path)\n",
    "#\"autodl-fs/cifar10/SimSiam_mean\""
   ]
  },
  {
   "cell_type": "markdown",
   "id": "2d16b441-07c2-481d-b3c5-85a07365e0bf",
   "metadata": {},
   "source": [
    "# UnZip"
   ]
  },
  {
   "cell_type": "code",
   "execution_count": 2,
   "id": "ea4c6d0c-ed40-47ac-9f91-daf468056d68",
   "metadata": {},
   "outputs": [],
   "source": [
    "\n",
    "import zipfile\n",
    "def extract_zip(file_path, output_path):\n",
    "    with zipfile.ZipFile(file_path, 'r') as zip_ref:\n",
    "        zip_ref.extractall(output_path)\n",
    "\n",
    "# Use the function\n",
    "extract_zip('autodl-tmp/imagenette2-160.zip', 'imagenette2/')\n"
   ]
  },
  {
   "cell_type": "code",
   "execution_count": null,
   "id": "30625293-1309-4309-b483-4c4c14341127",
   "metadata": {},
   "outputs": [],
   "source": [
    "import tarfile\n",
    "import os\n",
    "\n",
    "original_dir = 'path/to/yourfile.tar.gz'\n",
    "target_dir = 'path/to/extract/folder'\n",
    "\n",
    "# Ensure the target directory exists\n",
    "os.makedirs(target_dir, exist_ok=True)\n",
    "\n",
    "# Open the tar.gz file\n",
    "with tarfile.open(original_dir, 'r:gz') as file:\n",
    "    # Extract all the contents into the target directory\n",
    "    file.extractall(path=target_dir)\n",
    "\n",
    "print(f\"Extracted {original_dir} to {target_dir}\")\n"
   ]
  },
  {
   "cell_type": "markdown",
   "id": "c93940f4-4ad0-4818-b102-977f04cbbf89",
   "metadata": {},
   "source": [
    "# 迁移进来"
   ]
  },
  {
   "cell_type": "code",
   "execution_count": 1,
   "id": "912774cb-e44b-4497-b6c8-afa624bf6fc4",
   "metadata": {},
   "outputs": [
    {
     "data": {
      "text/plain": [
       "'tf-logs/cifar10/'"
      ]
     },
     "execution_count": 1,
     "metadata": {},
     "output_type": "execute_result"
    }
   ],
   "source": [
    "\n",
    "\n",
    "import shutil\n",
    "import os\n",
    "# specify the source file path and the destination file path\n",
    "source_directory_path = \"autodl-fs/cifar10/\"\n",
    "destination_directory_path = \"tf-logs/cifar10/\"\n",
    "\n",
    "shutil.copytree(source_directory_path, destination_directory_path)\n",
    "#\"autodl-fs/cifar10/SimSiam_mean\""
   ]
  },
  {
   "cell_type": "markdown",
   "id": "1a628c3c-e5a7-4a4e-8806-9d1a7dccb63d",
   "metadata": {},
   "source": [
    "# 打包出去"
   ]
  },
  {
   "cell_type": "code",
   "execution_count": 2,
   "id": "136ceca7-af92-4fa9-9755-a19633944f78",
   "metadata": {},
   "outputs": [
    {
     "data": {
      "text/plain": [
       "'/root/autodl-fs/cifar10/SimSiam_128_mean.zip'"
      ]
     },
     "execution_count": 2,
     "metadata": {},
     "output_type": "execute_result"
    }
   ],
   "source": [
    "\n",
    "\n",
    "import shutil\n",
    "import os\n",
    "# specify the source file path and the destination file path\n",
    "source_directory_path = \"tf-logs/Cifar10/version_0/SimSiam_mean\"\n",
    "destination_directory_path = \"autodl-fs/cifar10/SimSiam_128_mean\"\n",
    "\n",
    "# Delete the destination directory if it already exists\n",
    "if os.path.exists(destination_directory_path):\n",
    "    shutil.rmtree(destination_directory_path)\n",
    "shutil.copytree(source_directory_path, destination_directory_path)\n",
    "\n",
    "import zipfile\n",
    "import shutil\n",
    "\n",
    "# specify the source directory and the destination zip file base name (without .zip)\n",
    "source_directory_path = source_directory_path\n",
    "destination_zip_base_name =destination_directory_path\n",
    "\n",
    "# create a zip archive\n",
    "shutil.make_archive(destination_zip_base_name, 'zip', source_directory_path)\n"
   ]
  },
  {
   "cell_type": "code",
   "execution_count": 7,
   "id": "e232c82d-09a8-48c6-a77a-0e991aa43df3",
   "metadata": {},
   "outputs": [
    {
     "data": {
      "text/plain": [
       "'/root/autodl-fs/cifar10/version_byol_base.zip.zip'"
      ]
     },
     "execution_count": 7,
     "metadata": {},
     "output_type": "execute_result"
    }
   ],
   "source": [
    "import shutil\n",
    "import os\n",
    "# specify the source file path and the destination file path\n",
    "source_directory_path = \"benchmark_logs/cifar10/version_2/Moco\"\n",
    "destination_directory_path = \"autodl-fs/cifar10/Moco\"\n",
    "\n",
    "# Delete the destination directory if it already exists\n",
    "if os.path.exists(destination_directory_path):\n",
    "    shutil.rmtree(destination_directory_path)\n",
    "shutil.copytree(source_directory_path, destination_directory_path)\n",
    "\n",
    "import zipfile\n",
    "import shutil\n",
    "\n",
    "# specify the source directory and the destination zip file base name (without .zip)\n",
    "source_directory_path = source_directory_path\n",
    "destination_zip_base_name =destination_directory_path\n",
    "\n",
    "# create a zip archive\n",
    "shutil.make_archive(destination_zip_base_name, 'zip', source_directory_path)\n"
   ]
  },
  {
   "cell_type": "code",
   "execution_count": null,
   "id": "ab3ea0e3-f227-435f-be4a-ff856bbb6773",
   "metadata": {},
   "outputs": [],
   "source": []
  }
 ],
 "metadata": {
  "kernelspec": {
   "display_name": "Python 3 (ipykernel)",
   "language": "python",
   "name": "python3"
  },
  "language_info": {
   "codemirror_mode": {
    "name": "ipython",
    "version": 3
   },
   "file_extension": ".py",
   "mimetype": "text/x-python",
   "name": "python",
   "nbconvert_exporter": "python",
   "pygments_lexer": "ipython3",
   "version": "3.8.10"
  }
 },
 "nbformat": 4,
 "nbformat_minor": 5
}
